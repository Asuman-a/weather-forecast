{
 "cells": [
  {
   "cell_type": "code",
   "execution_count": 1,
   "id": "24138719",
   "metadata": {},
   "outputs": [],
   "source": [
    "import matplotlib.pyplot as plt\n",
    "import numpy as np\n",
    "import os\n",
    "import PIL\n",
    "import tensorflow as tf\n",
    "\n",
    "from tensorflow import keras\n",
    "from tensorflow.keras import layers\n",
    "from tensorflow.keras.models import Sequential"
   ]
  },
  {
   "cell_type": "code",
   "execution_count": 2,
   "id": "0a662ac8-e5f6-4a52-ad54-f321203e9708",
   "metadata": {},
   "outputs": [],
   "source": [
    "#Resizing image to 180*180 pixels, 32 Images for the batch"
   ]
  },
  {
   "cell_type": "code",
   "execution_count": 3,
   "id": "d40aaf47",
   "metadata": {},
   "outputs": [],
   "source": [
    "batch_size = 32\n",
    "img_height = 180\n",
    "img_width = 180\n",
    "\n",
    "data_dir = 'D:\\Desktop\\weather forecast'"
   ]
  },
  {
   "cell_type": "code",
   "execution_count": 4,
   "id": "45f1eca6-8b6c-4eb2-9b41-886423d1187a",
   "metadata": {},
   "outputs": [],
   "source": [
    "#Making the train validation split of 80 and 20 percentage\n",
    "\n",
    "#Train Split"
   ]
  },
  {
   "cell_type": "code",
   "execution_count": 5,
   "id": "2bea5b07",
   "metadata": {},
   "outputs": [
    {
     "name": "stdout",
     "output_type": "stream",
     "text": [
      "Found 1125 files belonging to 4 classes.\n",
      "Using 900 files for training.\n"
     ]
    }
   ],
   "source": [
    "train_ds = tf.keras.utils.image_dataset_from_directory(\n",
    "  data_dir,\n",
    "  validation_split=0.2,\n",
    "  subset=\"training\",\n",
    "  seed=123,\n",
    "  image_size=(img_height, img_width),\n",
    "  batch_size=batch_size)"
   ]
  },
  {
   "cell_type": "code",
   "execution_count": 6,
   "id": "1a0dc001-d365-481f-b272-e021e0de3368",
   "metadata": {},
   "outputs": [],
   "source": [
    "#Validation Split"
   ]
  },
  {
   "cell_type": "code",
   "execution_count": 7,
   "id": "7b7df902",
   "metadata": {},
   "outputs": [
    {
     "name": "stdout",
     "output_type": "stream",
     "text": [
      "Found 1125 files belonging to 4 classes.\n",
      "Using 225 files for validation.\n"
     ]
    }
   ],
   "source": [
    "val_ds = tf.keras.utils.image_dataset_from_directory(\n",
    "  data_dir,\n",
    "  validation_split=0.2,\n",
    "  subset=\"validation\",\n",
    "  seed=123,\n",
    "  image_size=(img_height, img_width),\n",
    "  batch_size=batch_size)\n"
   ]
  },
  {
   "cell_type": "code",
   "execution_count": 8,
   "id": "2ad4e226-5047-4b47-b984-314c6a761d7d",
   "metadata": {},
   "outputs": [],
   "source": [
    "#Here are all the classes"
   ]
  },
  {
   "cell_type": "code",
   "execution_count": 9,
   "id": "2a77a30c",
   "metadata": {},
   "outputs": [
    {
     "name": "stdout",
     "output_type": "stream",
     "text": [
      "['Cloudy', 'Rain', 'sunShine', 'sunrise']\n"
     ]
    }
   ],
   "source": [
    "class_names = train_ds.class_names\n",
    "print(class_names)"
   ]
  },
  {
   "cell_type": "code",
   "execution_count": 10,
   "id": "2b3f284d-c99e-4109-bc37-00d7371f2482",
   "metadata": {},
   "outputs": [],
   "source": [
    "#Normalizing the data by 255 pixels"
   ]
  },
  {
   "cell_type": "code",
   "execution_count": 11,
   "id": "dabad6a7",
   "metadata": {},
   "outputs": [],
   "source": [
    "normalization_layer = layers.Rescaling(1./255)"
   ]
  },
  {
   "cell_type": "code",
   "execution_count": 12,
   "id": "9042eb4b-3d83-4b63-825a-198c4997957a",
   "metadata": {},
   "outputs": [],
   "source": [
    "#Here the images values are from 0 to 1"
   ]
  },
  {
   "cell_type": "code",
   "execution_count": 13,
   "id": "03ddb40e",
   "metadata": {},
   "outputs": [
    {
     "name": "stdout",
     "output_type": "stream",
     "text": [
      "0.0 1.0\n"
     ]
    }
   ],
   "source": [
    "normalized_ds = train_ds.map(lambda x, y: (normalization_layer(x), y))\n",
    "image_batch, labels_batch = next(iter(normalized_ds))\n",
    "first_image = image_batch[0]\n",
    "print(np.min(first_image), np.max(first_image))"
   ]
  },
  {
   "cell_type": "code",
   "execution_count": 14,
   "id": "80f02c7a-6f1e-4efc-af36-ff0ff8a304f4",
   "metadata": {},
   "outputs": [],
   "source": [
    "#Class Names"
   ]
  },
  {
   "cell_type": "code",
   "execution_count": 15,
   "id": "ec44a2dc",
   "metadata": {},
   "outputs": [
    {
     "data": {
      "text/plain": [
       "['Cloudy', 'Rain', 'sunShine', 'sunrise']"
      ]
     },
     "execution_count": 15,
     "metadata": {},
     "output_type": "execute_result"
    }
   ],
   "source": [
    "class_names"
   ]
  },
  {
   "cell_type": "code",
   "execution_count": 16,
   "id": "b5f8e7ba-16fa-4d5e-be01-d9f0c3ff7eac",
   "metadata": {},
   "outputs": [],
   "source": [
    "#First Model: Convolutional Model with Three layers, 16->32->64 filters"
   ]
  },
  {
   "cell_type": "code",
   "execution_count": 17,
   "id": "99db35d8",
   "metadata": {},
   "outputs": [],
   "source": [
    "num_classes = len(class_names)\n",
    "\n",
    "model = Sequential([\n",
    "  layers.Rescaling(1./255, input_shape=(img_height, img_width, 3)),\n",
    "  layers.Conv2D(16, 3, padding='same', activation='relu'),\n",
    "  layers.MaxPooling2D(),\n",
    "  layers.Conv2D(32, 3, padding='same', activation='relu'),\n",
    "  layers.MaxPooling2D(),\n",
    "  layers.Conv2D(64, 3, padding='same', activation='relu'),\n",
    "  layers.MaxPooling2D(),\n",
    "  layers.Flatten(),\n",
    "  layers.Dense(128, activation='relu'),\n",
    "  layers.Dense(num_classes)\n",
    "])\n",
    "     "
   ]
  },
  {
   "cell_type": "code",
   "execution_count": 18,
   "id": "08e14958",
   "metadata": {},
   "outputs": [],
   "source": [
    "model.compile(optimizer='adam',\n",
    "              loss=tf.keras.losses.SparseCategoricalCrossentropy(from_logits=True),\n",
    "              metrics=['accuracy'])"
   ]
  },
  {
   "cell_type": "code",
   "execution_count": 19,
   "id": "24f52b5f",
   "metadata": {},
   "outputs": [
    {
     "name": "stdout",
     "output_type": "stream",
     "text": [
      "Model: \"sequential\"\n",
      "_________________________________________________________________\n",
      " Layer (type)                Output Shape              Param #   \n",
      "=================================================================\n",
      " rescaling_1 (Rescaling)     (None, 180, 180, 3)       0         \n",
      "                                                                 \n",
      " conv2d (Conv2D)             (None, 180, 180, 16)      448       \n",
      "                                                                 \n",
      " max_pooling2d (MaxPooling2D  (None, 90, 90, 16)       0         \n",
      " )                                                               \n",
      "                                                                 \n",
      " conv2d_1 (Conv2D)           (None, 90, 90, 32)        4640      \n",
      "                                                                 \n",
      " max_pooling2d_1 (MaxPooling  (None, 45, 45, 32)       0         \n",
      " 2D)                                                             \n",
      "                                                                 \n",
      " conv2d_2 (Conv2D)           (None, 45, 45, 64)        18496     \n",
      "                                                                 \n",
      " max_pooling2d_2 (MaxPooling  (None, 22, 22, 64)       0         \n",
      " 2D)                                                             \n",
      "                                                                 \n",
      " flatten (Flatten)           (None, 30976)             0         \n",
      "                                                                 \n",
      " dense (Dense)               (None, 128)               3965056   \n",
      "                                                                 \n",
      " dense_1 (Dense)             (None, 4)                 516       \n",
      "                                                                 \n",
      "=================================================================\n",
      "Total params: 3,989,156\n",
      "Trainable params: 3,989,156\n",
      "Non-trainable params: 0\n",
      "_________________________________________________________________\n"
     ]
    }
   ],
   "source": [
    "\n",
    "model.summary()"
   ]
  },
  {
   "cell_type": "code",
   "execution_count": 20,
   "id": "264d3f0b",
   "metadata": {},
   "outputs": [
    {
     "name": "stdout",
     "output_type": "stream",
     "text": [
      "Epoch 1/20\n",
      "29/29 [==============================] - 21s 669ms/step - loss: 0.7245 - accuracy: 0.7200 - val_loss: 0.4828 - val_accuracy: 0.8489\n",
      "Epoch 2/20\n",
      "29/29 [==============================] - 16s 540ms/step - loss: 0.3732 - accuracy: 0.8711 - val_loss: 0.3972 - val_accuracy: 0.8667\n",
      "Epoch 3/20\n",
      "29/29 [==============================] - 16s 554ms/step - loss: 0.3267 - accuracy: 0.8756 - val_loss: 0.3847 - val_accuracy: 0.8622\n",
      "Epoch 4/20\n",
      "29/29 [==============================] - 18s 614ms/step - loss: 0.3407 - accuracy: 0.8689 - val_loss: 0.3164 - val_accuracy: 0.8978\n",
      "Epoch 5/20\n",
      "29/29 [==============================] - 22s 746ms/step - loss: 0.1749 - accuracy: 0.9367 - val_loss: 0.3308 - val_accuracy: 0.8711\n",
      "Epoch 6/20\n",
      "29/29 [==============================] - 21s 710ms/step - loss: 0.1712 - accuracy: 0.9389 - val_loss: 0.3551 - val_accuracy: 0.8756\n",
      "Epoch 7/20\n",
      "29/29 [==============================] - 22s 705ms/step - loss: 0.1671 - accuracy: 0.9322 - val_loss: 0.3616 - val_accuracy: 0.8978\n",
      "Epoch 8/20\n",
      "29/29 [==============================] - 20s 672ms/step - loss: 0.1225 - accuracy: 0.9522 - val_loss: 0.3210 - val_accuracy: 0.8978\n",
      "Epoch 9/20\n",
      "29/29 [==============================] - 20s 667ms/step - loss: 0.0856 - accuracy: 0.9778 - val_loss: 0.3313 - val_accuracy: 0.8978\n",
      "Epoch 10/20\n",
      "29/29 [==============================] - 20s 652ms/step - loss: 0.0565 - accuracy: 0.9822 - val_loss: 0.2800 - val_accuracy: 0.9022\n",
      "Epoch 11/20\n",
      "29/29 [==============================] - 19s 635ms/step - loss: 0.0855 - accuracy: 0.9689 - val_loss: 0.3756 - val_accuracy: 0.8756\n",
      "Epoch 12/20\n",
      "29/29 [==============================] - 18s 591ms/step - loss: 0.2681 - accuracy: 0.9011 - val_loss: 0.4162 - val_accuracy: 0.9156\n",
      "Epoch 13/20\n",
      "29/29 [==============================] - 19s 653ms/step - loss: 0.1176 - accuracy: 0.9678 - val_loss: 0.4279 - val_accuracy: 0.9156\n",
      "Epoch 14/20\n",
      "29/29 [==============================] - 17s 580ms/step - loss: 0.0690 - accuracy: 0.9800 - val_loss: 0.3319 - val_accuracy: 0.9244\n",
      "Epoch 15/20\n",
      "29/29 [==============================] - 19s 631ms/step - loss: 0.0424 - accuracy: 0.9844 - val_loss: 0.8878 - val_accuracy: 0.7867\n",
      "Epoch 16/20\n",
      "29/29 [==============================] - 19s 645ms/step - loss: 0.0934 - accuracy: 0.9689 - val_loss: 0.4759 - val_accuracy: 0.9111\n",
      "Epoch 17/20\n",
      "29/29 [==============================] - 19s 646ms/step - loss: 0.0466 - accuracy: 0.9856 - val_loss: 0.4391 - val_accuracy: 0.9022\n",
      "Epoch 18/20\n",
      "29/29 [==============================] - 18s 606ms/step - loss: 0.0127 - accuracy: 0.9989 - val_loss: 0.4506 - val_accuracy: 0.8978\n",
      "Epoch 19/20\n",
      "29/29 [==============================] - 18s 599ms/step - loss: 0.0066 - accuracy: 0.9989 - val_loss: 0.4177 - val_accuracy: 0.9111\n",
      "Epoch 20/20\n",
      "29/29 [==============================] - 17s 566ms/step - loss: 0.0173 - accuracy: 0.9922 - val_loss: 0.4257 - val_accuracy: 0.8933\n"
     ]
    }
   ],
   "source": [
    "\n",
    "epochs=20\n",
    "history = model.fit(\n",
    "  train_ds,\n",
    "  validation_data=val_ds,\n",
    "  epochs=epochs\n",
    ")"
   ]
  },
  {
   "cell_type": "code",
   "execution_count": 21,
   "id": "4e26c6ea",
   "metadata": {},
   "outputs": [
    {
     "name": "stdout",
     "output_type": "stream",
     "text": [
      "8/8 [==============================] - 2s 113ms/step - loss: 0.4257 - accuracy: 0.8933\n",
      "Accuracy: 89.33333158493042\n"
     ]
    }
   ],
   "source": [
    "print('Accuracy:', model.evaluate(val_ds)[1]*100)"
   ]
  },
  {
   "cell_type": "code",
   "execution_count": 22,
   "id": "60839ed5",
   "metadata": {},
   "outputs": [
    {
     "name": "stdout",
     "output_type": "stream",
     "text": [
      "29/29 [==============================] - 5s 153ms/step - loss: 0.0104 - accuracy: 1.0000\n"
     ]
    },
    {
     "data": {
      "text/plain": [
       "[0.0104386480525136, 1.0]"
      ]
     },
     "execution_count": 22,
     "metadata": {},
     "output_type": "execute_result"
    }
   ],
   "source": [
    "model.evaluate(train_ds)"
   ]
  },
  {
   "cell_type": "code",
   "execution_count": 18,
   "id": "e9bdffcb",
   "metadata": {
    "jupyter": {
     "source_hidden": true
    },
    "tags": []
   },
   "outputs": [
    {
     "data": {
      "image/png": "[encoded data removed]",
      "text/plain": [
       "<Figure size 900x900 with 2 Axes>"
      ]
     },
     "metadata": {},
     "output_type": "display_data"
    }
   ],
   "source": [
    "acc = history.history['accuracy']\n",
    "val_acc = history.history['val_accuracy']\n",
    "\n",
    "loss = history.history['loss']\n",
    "val_loss = history.history['val_loss']\n",
    "\n",
    "epochs_range = range(epochs)\n",
    "\n",
    "plt.figure(figsize=(9, 9))\n",
    "plt.subplot(1, 2, 1)\n",
    "plt.plot(epochs_range, acc, label='Training Accuracy')\n",
    "plt.plot(epochs_range, val_acc, label='Validation Accuracy')\n",
    "plt.legend(loc='lower right')\n",
    "plt.title('Training and Validation Accuracy')\n",
    "\n",
    "plt.subplot(1, 2, 2)\n",
    "plt.plot(epochs_range, loss, label='Training Loss')\n",
    "plt.plot(epochs_range, val_loss, label='Validation Loss')\n",
    "plt.legend(loc='upper right')\n",
    "plt.title('Training and Validation Loss')\n",
    "plt.show()\n",
    "     "
   ]
  },
  {
   "cell_type": "code",
   "execution_count": null,
   "id": "a36d3116-b814-40bb-968a-9d0640e9794f",
   "metadata": {},
   "outputs": [],
   "source": [
    "#With Drop out layer"
   ]
  },
  {
   "cell_type": "code",
   "execution_count": null,
   "id": "0b2be42b",
   "metadata": {},
   "outputs": [
    {
     "name": "stdout",
     "output_type": "stream",
     "text": [
      "Model: \"sequential_1\"\n",
      "_________________________________________________________________\n",
      " Layer (type)                Output Shape              Param #   \n",
      "=================================================================\n",
      " rescaling_2 (Rescaling)     (None, 180, 180, 3)       0         \n",
      "                                                                 \n",
      " conv2d_3 (Conv2D)           (None, 180, 180, 16)      448       \n",
      "                                                                 \n",
      " max_pooling2d_3 (MaxPooling  (None, 90, 90, 16)       0         \n",
      " 2D)                                                             \n",
      "                                                                 \n",
      " dropout (Dropout)           (None, 90, 90, 16)        0         \n",
      "                                                                 \n",
      " conv2d_4 (Conv2D)           (None, 90, 90, 32)        4640      \n",
      "                                                                 \n",
      " max_pooling2d_4 (MaxPooling  (None, 45, 45, 32)       0         \n",
      " 2D)                                                             \n",
      "                                                                 \n",
      " dropout_1 (Dropout)         (None, 45, 45, 32)        0         \n",
      "                                                                 \n",
      " conv2d_5 (Conv2D)           (None, 45, 45, 64)        18496     \n",
      "                                                                 \n",
      " max_pooling2d_5 (MaxPooling  (None, 22, 22, 64)       0         \n",
      " 2D)                                                             \n",
      "                                                                 \n",
      " dropout_2 (Dropout)         (None, 22, 22, 64)        0         \n",
      "                                                                 \n",
      " flatten_1 (Flatten)         (None, 30976)             0         \n",
      "                                                                 \n",
      " dense_2 (Dense)             (None, 128)               3965056   \n",
      "                                                                 \n",
      " dense_3 (Dense)             (None, 4)                 516       \n",
      "                                                                 \n",
      "=================================================================\n",
      "Total params: 3,989,156\n",
      "Trainable params: 3,989,156\n",
      "Non-trainable params: 0\n",
      "_________________________________________________________________\n",
      "Epoch 1/20\n",
      "29/29 [==============================] - 20s 673ms/step - loss: 1.6234 - accuracy: 0.3767 - val_loss: 1.0020 - val_accuracy: 0.5156\n",
      "Epoch 2/20\n",
      "29/29 [==============================] - 20s 668ms/step - loss: 0.6988 - accuracy: 0.7133 - val_loss: 0.8229 - val_accuracy: 0.6356\n",
      "Epoch 3/20\n",
      "29/29 [==============================] - 20s 676ms/step - loss: 0.5082 - accuracy: 0.8144 - val_loss: 0.6074 - val_accuracy: 0.7733\n",
      "Epoch 4/20\n",
      "29/29 [==============================] - 20s 677ms/step - loss: 0.3870 - accuracy: 0.8489 - val_loss: 0.5386 - val_accuracy: 0.7867\n",
      "Epoch 5/20\n",
      "29/29 [==============================] - 20s 692ms/step - loss: 0.3172 - accuracy: 0.8856 - val_loss: 0.5098 - val_accuracy: 0.8089\n",
      "Epoch 6/20\n",
      "29/29 [==============================] - 20s 685ms/step - loss: 0.2548 - accuracy: 0.9033 - val_loss: 0.4162 - val_accuracy: 0.8489\n",
      "Epoch 7/20\n",
      "29/29 [==============================] - 20s 678ms/step - loss: 0.2478 - accuracy: 0.9100 - val_loss: 0.4124 - val_accuracy: 0.8667\n",
      "Epoch 8/20\n",
      "29/29 [==============================] - 20s 678ms/step - loss: 0.2164 - accuracy: 0.9144 - val_loss: 0.4291 - val_accuracy: 0.8533\n",
      "Epoch 9/20\n",
      "29/29 [==============================] - 21s 709ms/step - loss: 0.1787 - accuracy: 0.9356 - val_loss: 0.3485 - val_accuracy: 0.8933\n",
      "Epoch 10/20\n",
      "29/29 [==============================] - 22s 762ms/step - loss: 0.2363 - accuracy: 0.9256 - val_loss: 0.3594 - val_accuracy: 0.8844\n",
      "Epoch 11/20\n",
      "29/29 [==============================] - 38s 1s/step - loss: 0.2249 - accuracy: 0.9267 - val_loss: 0.3754 - val_accuracy: 0.8667\n",
      "Epoch 12/20\n",
      "29/29 [==============================] - 39s 1s/step - loss: 0.1220 - accuracy: 0.9622 - val_loss: 0.4037 - val_accuracy: 0.8933\n",
      "Epoch 13/20\n",
      "29/29 [==============================] - 39s 1s/step - loss: 0.0742 - accuracy: 0.9733 - val_loss: 0.3721 - val_accuracy: 0.8889\n",
      "Epoch 14/20\n",
      "29/29 [==============================] - 39s 1s/step - loss: 0.0401 - accuracy: 0.9900 - val_loss: 0.3749 - val_accuracy: 0.8800\n",
      "Epoch 15/20\n",
      "29/29 [==============================] - 39s 1s/step - loss: 0.0274 - accuracy: 0.9922 - val_loss: 0.3679 - val_accuracy: 0.9022\n",
      "Epoch 16/20\n",
      "29/29 [==============================] - 39s 1s/step - loss: 0.0373 - accuracy: 0.9911 - val_loss: 0.3840 - val_accuracy: 0.9022\n",
      "Epoch 17/20\n",
      "29/29 [==============================] - 39s 1s/step - loss: 0.0190 - accuracy: 0.9956 - val_loss: 0.4161 - val_accuracy: 0.8978\n",
      "Epoch 18/20\n",
      "29/29 [==============================] - 39s 1s/step - loss: 0.0133 - accuracy: 0.9956 - val_loss: 0.4330 - val_accuracy: 0.9067\n",
      "Epoch 19/20\n",
      "29/29 [==============================] - 39s 1s/step - loss: 0.0093 - accuracy: 0.9978 - val_loss: 0.4150 - val_accuracy: 0.9067\n",
      "Epoch 20/20\n",
      "13/29 [============>.................] - ETA: 20s - loss: 0.0114 - accuracy: 0.9976"
     ]
    }
   ],
   "source": [
    "num_classes = len(class_names)\n",
    "\n",
    "model = Sequential([\n",
    "  layers.Rescaling(1./255, input_shape=(img_height, img_width, 3)),\n",
    "  layers.Conv2D(16, 3, padding='same', activation='relu'),\n",
    "  layers.MaxPooling2D(),\n",
    "  layers.Dropout(0.1),\n",
    "  layers.Conv2D(32, 3, padding='same', activation='relu'),\n",
    "  layers.MaxPooling2D(),\n",
    "  layers.Dropout(0.2),\n",
    "  layers.Conv2D(64, 3, padding='same', activation='relu'),\n",
    "  layers.MaxPooling2D(),\n",
    "  layers.Dropout(0.2),\n",
    "  layers.Flatten(),\n",
    "  layers.Dense(128, activation='relu'),\n",
    "  layers.Dense(num_classes)\n",
    "])\n",
    "model.compile(optimizer='adam',\n",
    "              loss=tf.keras.losses.SparseCategoricalCrossentropy(from_logits=True),\n",
    "              metrics=['accuracy'])\n",
    "\n",
    "model.summary()\n",
    "epochs=20\n",
    "history = model.fit(\n",
    "  train_ds,\n",
    "  validation_data=val_ds,\n",
    "  epochs=epochs\n",
    ")\n",
    "\n",
    "acc = history.history['accuracy']\n",
    "val_acc = history.history['val_accuracy']\n",
    "loss = history.history['loss']\n",
    "val_loss = history.history['val_loss']\n",
    "\n",
    "epochs_range = range(epochs)\n",
    "\n",
    "plt.figure(figsize=(8, 8))\n",
    "plt.subplot(1, 2, 1)\n",
    "plt.plot(epochs_range, acc, label='Training Accuracy')\n",
    "plt.plot(epochs_range, val_acc, label='Validation Accuracy')\n",
    "plt.legend(loc='lower right')\n",
    "plt.title('Training and Validation Accuracy')\n",
    "\n",
    "plt.subplot(1, 2, 2)\n",
    "plt.plot(epochs_range, loss, label='Training Loss')\n",
    "plt.plot(epochs_range, val_loss, label='Validation Loss')\n",
    "plt.legend(loc='upper right')\n",
    "plt.title('Training and Validation Loss')\n",
    "plt.show()"
   ]
  },
  {
   "cell_type": "code",
   "execution_count": null,
   "id": "4e063050",
   "metadata": {},
   "outputs": [],
   "source": []
  },
  {
   "cell_type": "code",
   "execution_count": null,
   "id": "1b35413f",
   "metadata": {},
   "outputs": [],
   "source": [
    "print('Accuracy:', model.evaluate(val_ds)[1]*100)"
   ]
  },
  {
   "cell_type": "code",
   "execution_count": null,
   "id": "63b90cb7",
   "metadata": {},
   "outputs": [],
   "source": [
    "model.evaluate(train_ds)"
   ]
  },
  {
   "cell_type": "code",
   "execution_count": null,
   "id": "b5d4e154",
   "metadata": {},
   "outputs": [],
   "source": []
  },
  {
   "cell_type": "code",
   "execution_count": null,
   "id": "b930dd35",
   "metadata": {},
   "outputs": [],
   "source": []
  },
  {
   "cell_type": "code",
   "execution_count": null,
   "id": "2f8bb63a",
   "metadata": {},
   "outputs": [],
   "source": []
  }
 ],
 "metadata": {
  "kernelspec": {
   "display_name": "imageclassfication",
   "language": "python",
   "name": "imageclassfication"
  },
  "language_info": {
   "codemirror_mode": {
    "name": "ipython",
    "version": 3
   },
   "file_extension": ".py",
   "mimetype": "text/x-python",
   "name": "python",
   "nbconvert_exporter": "python",
   "pygments_lexer": "ipython3",
   "version": "3.9.13"
  }
 },
 "nbformat": 4,
 "nbformat_minor": 5
}
